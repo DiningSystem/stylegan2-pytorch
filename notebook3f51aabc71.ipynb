{
 "cells": [
  {
   "cell_type": "code",
   "execution_count": 1,
   "id": "819f6772",
   "metadata": {
    "execution": {
     "iopub.execute_input": "2023-01-31T18:33:16.934919Z",
     "iopub.status.busy": "2023-01-31T18:33:16.933985Z",
     "iopub.status.idle": "2023-01-31T18:33:29.833645Z",
     "shell.execute_reply": "2023-01-31T18:33:29.832461Z"
    },
    "papermill": {
     "duration": 12.906335,
     "end_time": "2023-01-31T18:33:29.836880",
     "exception": false,
     "start_time": "2023-01-31T18:33:16.930545",
     "status": "completed"
    },
    "tags": []
   },
   "outputs": [
    {
     "name": "stdout",
     "output_type": "stream",
     "text": [
      "Requirement already satisfied: click in /opt/conda/lib/python3.7/site-packages (8.1.3)\r\n",
      "Requirement already satisfied: requests in /opt/conda/lib/python3.7/site-packages (2.28.1)\r\n",
      "Requirement already satisfied: tqdm in /opt/conda/lib/python3.7/site-packages (4.64.0)\r\n",
      "Collecting pyspng\r\n",
      "  Downloading pyspng-0.1.1-cp37-cp37m-manylinux_2_17_x86_64.manylinux2014_x86_64.whl (207 kB)\r\n",
      "\u001b[2K     \u001b[90m━━━━━━━━━━━━━━━━━━━━━━━━━━━━━━━━━━━━━━━\u001b[0m \u001b[32m207.9/207.9 kB\u001b[0m \u001b[31m1.4 MB/s\u001b[0m eta \u001b[36m0:00:00\u001b[0m\r\n",
      "\u001b[?25hRequirement already satisfied: ninja in /opt/conda/lib/python3.7/site-packages (1.11.1)\r\n",
      "Collecting imageio-ffmpeg==0.4.3\r\n",
      "  Downloading imageio_ffmpeg-0.4.3-py3-none-manylinux2010_x86_64.whl (26.9 MB)\r\n",
      "\u001b[2K     \u001b[90m━━━━━━━━━━━━━━━━━━━━━━━━━━━━━━━━━━━━━━━━\u001b[0m \u001b[32m26.9/26.9 MB\u001b[0m \u001b[31m31.1 MB/s\u001b[0m eta \u001b[36m0:00:00\u001b[0m\r\n",
      "\u001b[?25hRequirement already satisfied: importlib-metadata in /opt/conda/lib/python3.7/site-packages (from click) (6.0.0)\r\n",
      "Requirement already satisfied: urllib3<1.27,>=1.21.1 in /opt/conda/lib/python3.7/site-packages (from requests) (1.26.14)\r\n",
      "Requirement already satisfied: charset-normalizer<3,>=2 in /opt/conda/lib/python3.7/site-packages (from requests) (2.1.0)\r\n",
      "Requirement already satisfied: idna<4,>=2.5 in /opt/conda/lib/python3.7/site-packages (from requests) (3.3)\r\n",
      "Requirement already satisfied: certifi>=2017.4.17 in /opt/conda/lib/python3.7/site-packages (from requests) (2022.12.7)\r\n",
      "Requirement already satisfied: numpy in /opt/conda/lib/python3.7/site-packages (from pyspng) (1.21.6)\r\n",
      "Requirement already satisfied: typing-extensions>=3.6.4 in /opt/conda/lib/python3.7/site-packages (from importlib-metadata->click) (4.1.1)\r\n",
      "Requirement already satisfied: zipp>=0.5 in /opt/conda/lib/python3.7/site-packages (from importlib-metadata->click) (3.8.0)\r\n",
      "Installing collected packages: pyspng, imageio-ffmpeg\r\n",
      "Successfully installed imageio-ffmpeg-0.4.3 pyspng-0.1.1\r\n",
      "\u001b[33mWARNING: Running pip as the 'root' user can result in broken permissions and conflicting behaviour with the system package manager. It is recommended to use a virtual environment instead: https://pip.pypa.io/warnings/venv\u001b[0m\u001b[33m\r\n",
      "\u001b[0m"
     ]
    }
   ],
   "source": [
    "!pip install click requests tqdm pyspng ninja imageio-ffmpeg==0.4.3"
   ]
  },
  {
   "cell_type": "code",
   "execution_count": 2,
   "id": "e58099f4",
   "metadata": {
    "execution": {
     "iopub.execute_input": "2023-01-31T18:33:29.847824Z",
     "iopub.status.busy": "2023-01-31T18:33:29.847362Z",
     "iopub.status.idle": "2023-01-31T18:33:32.057295Z",
     "shell.execute_reply": "2023-01-31T18:33:32.055870Z"
    },
    "papermill": {
     "duration": 2.218325,
     "end_time": "2023-01-31T18:33:32.060276",
     "exception": false,
     "start_time": "2023-01-31T18:33:29.841951",
     "status": "completed"
    },
    "tags": []
   },
   "outputs": [
    {
     "name": "stdout",
     "output_type": "stream",
     "text": [
      "Cloning into 'stylegan3'...\r\n",
      "remote: Enumerating objects: 207, done.\u001b[K\r\n",
      "remote: Total 207 (delta 0), reused 0 (delta 0), pack-reused 207\u001b[K\r\n",
      "Receiving objects: 100% (207/207), 4.16 MiB | 9.13 MiB/s, done.\r\n",
      "Resolving deltas: 100% (101/101), done.\r\n",
      "/kaggle/working/stylegan3\n"
     ]
    }
   ],
   "source": [
    "!git clone https://github.com/NVlabs/stylegan3\n",
    "%cd stylegan3"
   ]
  },
  {
   "cell_type": "code",
   "execution_count": 3,
   "id": "b8e210fb",
   "metadata": {
    "execution": {
     "iopub.execute_input": "2023-01-31T18:33:32.069765Z",
     "iopub.status.busy": "2023-01-31T18:33:32.068809Z",
     "iopub.status.idle": "2023-01-31T18:33:33.018789Z",
     "shell.execute_reply": "2023-01-31T18:33:33.017607Z"
    },
    "papermill": {
     "duration": 0.957085,
     "end_time": "2023-01-31T18:33:33.021219",
     "exception": false,
     "start_time": "2023-01-31T18:33:32.064134",
     "status": "completed"
    },
    "tags": []
   },
   "outputs": [
    {
     "name": "stdout",
     "output_type": "stream",
     "text": [
      "/bin/bash: -c: line 0: syntax error near unexpected token `('\r\n",
      "/bin/bash: -c: line 0: `python3 train.py --snap 10 --resume /kaggle/input/new-model/network-snapshot-000040 (1).pkl --outdir ../experiment_gan2 --data /kaggle/input/xray2data/test_data_xray2 --aug=ada --target=0.6 --gamma=10 --cfg=stylegan2 --batch=8 --gpus=1'\r\n"
     ]
    }
   ],
   "source": [
    "import os\n",
    "\n",
    "# Modify these to suit your needs\n",
    "EXPERIMENTS = \"../experiment_gan2\"\n",
    "RESUME = \"/kaggle/input/new-model/network-snapshot-000040 (1).pkl\"\n",
    "DATA = \"/kaggle/input/xray2data/test_data_xray2\"\n",
    "SNAP = 10\n",
    "aug = \"ada\"\n",
    "target = 0.6\n",
    "version = 'stylegan2'\n",
    "gamma = 10\n",
    "batch = 8\n",
    "gpus = 1\n",
    "# Build the command and run it\n",
    "cmd = f\"python3 train.py \"\\\n",
    "  f\"--snap {SNAP} --resume {RESUME} --outdir {EXPERIMENTS} --data {DATA} --aug={aug} --target={target} --gamma={gamma} --cfg={version} --batch={batch} --gpus={gpus}\"\n",
    "!{cmd}"
   ]
  }
 ],
 "metadata": {
  "kernelspec": {
   "display_name": "Python 3",
   "language": "python",
   "name": "python3"
  },
  "language_info": {
   "codemirror_mode": {
    "name": "ipython",
    "version": 3
   },
   "file_extension": ".py",
   "mimetype": "text/x-python",
   "name": "python",
   "nbconvert_exporter": "python",
   "pygments_lexer": "ipython3",
   "version": "3.7.12"
  },
  "papermill": {
   "default_parameters": {},
   "duration": 24.638174,
   "end_time": "2023-01-31T18:33:33.544428",
   "environment_variables": {},
   "exception": null,
   "input_path": "__notebook__.ipynb",
   "output_path": "__notebook__.ipynb",
   "parameters": {},
   "start_time": "2023-01-31T18:33:08.906254",
   "version": "2.3.4"
  }
 },
 "nbformat": 4,
 "nbformat_minor": 5
}
