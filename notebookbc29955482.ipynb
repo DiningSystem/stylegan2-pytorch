{
 "cells": [
  {
   "cell_type": "code",
   "execution_count": 1,
   "id": "becc1c4c",
   "metadata": {
    "execution": {
     "iopub.execute_input": "2023-01-25T16:59:29.153804Z",
     "iopub.status.busy": "2023-01-25T16:59:29.152956Z",
     "iopub.status.idle": "2023-01-25T17:01:59.440820Z",
     "shell.execute_reply": "2023-01-25T17:01:59.439550Z"
    },
    "papermill": {
     "duration": 150.295262,
     "end_time": "2023-01-25T17:01:59.443627",
     "exception": false,
     "start_time": "2023-01-25T16:59:29.148365",
     "status": "completed"
    },
    "tags": []
   },
   "outputs": [
    {
     "name": "stdout",
     "output_type": "stream",
     "text": [
      "Found existing installation: jax 0.3.25\r\n",
      "Uninstalling jax-0.3.25:\r\n",
      "  Successfully uninstalled jax-0.3.25\r\n",
      "Found existing installation: jaxlib 0.3.25+cuda11.cudnn805\r\n",
      "Uninstalling jaxlib-0.3.25+cuda11.cudnn805:\r\n",
      "  Successfully uninstalled jaxlib-0.3.25+cuda11.cudnn805\r\n",
      "\u001b[33mWARNING: Running pip as the 'root' user can result in broken permissions and conflicting behaviour with the system package manager. It is recommended to use a virtual environment instead: https://pip.pypa.io/warnings/venv\u001b[0m\u001b[33m\r\n",
      "\u001b[0mLooking in links: https://storage.googleapis.com/jax-releases/jax_cuda_releases.html\r\n",
      "Collecting jax[cuda11_cudnn805]==0.3.10\r\n",
      "  Downloading jax-0.3.10.tar.gz (939 kB)\r\n",
      "\u001b[2K     \u001b[90m━━━━━━━━━━━━━━━━━━━━━━━━━━━━━━━━━━━━━━━\u001b[0m \u001b[32m939.7/939.7 kB\u001b[0m \u001b[31m1.1 MB/s\u001b[0m eta \u001b[36m0:00:00\u001b[0m\r\n",
      "\u001b[?25h  Preparing metadata (setup.py) ... \u001b[?25l-\b \bdone\r\n",
      "\u001b[?25hRequirement already satisfied: absl-py in /opt/conda/lib/python3.7/site-packages (from jax[cuda11_cudnn805]==0.3.10) (0.15.0)\r\n",
      "Requirement already satisfied: numpy>=1.19 in /opt/conda/lib/python3.7/site-packages (from jax[cuda11_cudnn805]==0.3.10) (1.21.6)\r\n",
      "Requirement already satisfied: opt_einsum in /opt/conda/lib/python3.7/site-packages (from jax[cuda11_cudnn805]==0.3.10) (3.3.0)\r\n",
      "Requirement already satisfied: scipy>=1.2.1 in /opt/conda/lib/python3.7/site-packages (from jax[cuda11_cudnn805]==0.3.10) (1.7.3)\r\n",
      "Requirement already satisfied: typing_extensions in /opt/conda/lib/python3.7/site-packages (from jax[cuda11_cudnn805]==0.3.10) (4.1.1)\r\n",
      "Collecting jaxlib==0.3.10+cuda11.cudnn805\r\n",
      "  Downloading https://storage.googleapis.com/jax-releases/cuda11/jaxlib-0.3.10%2Bcuda11.cudnn805-cp37-none-manylinux2014_x86_64.whl (175.7 MB)\r\n",
      "\u001b[2K     \u001b[90m━━━━━━━━━━━━━━━━━━━━━━━━━━━━━━━━━━━━━━━\u001b[0m \u001b[32m175.7/175.7 MB\u001b[0m \u001b[31m4.8 MB/s\u001b[0m eta \u001b[36m0:00:00\u001b[0m\r\n",
      "\u001b[?25hRequirement already satisfied: flatbuffers<3.0,>=1.12 in /opt/conda/lib/python3.7/site-packages (from jaxlib==0.3.10+cuda11.cudnn805->jax[cuda11_cudnn805]==0.3.10) (1.12)\r\n",
      "Requirement already satisfied: six in /opt/conda/lib/python3.7/site-packages (from absl-py->jax[cuda11_cudnn805]==0.3.10) (1.15.0)\r\n",
      "Building wheels for collected packages: jax\r\n",
      "  Building wheel for jax (setup.py) ... \u001b[?25l-\b \b\\\b \b|\b \b/\b \b-\b \bdone\r\n",
      "\u001b[?25h  Created wheel for jax: filename=jax-0.3.10-py3-none-any.whl size=1088066 sha256=5357c309ef788ca41904d420016c70bb1e9166f80ec9cb4c1a8198048c7482c2\r\n",
      "  Stored in directory: /root/.cache/pip/wheels/1c/05/23/36730377cd7311156f1e5eb5e7c683d5cdac1654658c095cc5\r\n",
      "Successfully built jax\r\n",
      "Installing collected packages: jaxlib, jax\r\n",
      "\u001b[31mERROR: pip's dependency resolver does not currently take into account all the packages that are installed. This behaviour is the source of the following dependency conflicts.\r\n",
      "flax 0.6.3 requires jax>=0.3.16, but you have jax 0.3.10 which is incompatible.\u001b[0m\u001b[31m\r\n",
      "\u001b[0mSuccessfully installed jax-0.3.10 jaxlib-0.3.10+cuda11.cudnn805\r\n",
      "\u001b[33mWARNING: Running pip as the 'root' user can result in broken permissions and conflicting behaviour with the system package manager. It is recommended to use a virtual environment instead: https://pip.pypa.io/warnings/venv\u001b[0m\u001b[33m\r\n",
      "\u001b[0mCollecting torch==1.8.1\r\n",
      "  Downloading torch-1.8.1-cp37-cp37m-manylinux1_x86_64.whl (804.1 MB)\r\n",
      "\u001b[2K     \u001b[90m━━━━━━━━━━━━━━━━━━━━━━━━━━━━━━━━━━━━━━━\u001b[0m \u001b[32m804.1/804.1 MB\u001b[0m \u001b[31m1.3 MB/s\u001b[0m eta \u001b[36m0:00:00\u001b[0m\r\n",
      "\u001b[?25hCollecting torchvision==0.9.1\r\n",
      "  Downloading torchvision-0.9.1-cp37-cp37m-manylinux1_x86_64.whl (17.4 MB)\r\n",
      "\u001b[2K     \u001b[90m━━━━━━━━━━━━━━━━━━━━━━━━━━━━━━━━━━━━━━━━\u001b[0m \u001b[32m17.4/17.4 MB\u001b[0m \u001b[31m14.7 MB/s\u001b[0m eta \u001b[36m0:00:00\u001b[0m\r\n",
      "\u001b[?25hRequirement already satisfied: numpy in /opt/conda/lib/python3.7/site-packages (from torch==1.8.1) (1.21.6)\r\n",
      "Requirement already satisfied: typing-extensions in /opt/conda/lib/python3.7/site-packages (from torch==1.8.1) (4.1.1)\r\n",
      "Requirement already satisfied: pillow>=4.1.1 in /opt/conda/lib/python3.7/site-packages (from torchvision==0.9.1) (9.1.1)\r\n",
      "Installing collected packages: torch, torchvision\r\n",
      "  Attempting uninstall: torch\r\n",
      "    Found existing installation: torch 1.11.0\r\n",
      "    Uninstalling torch-1.11.0:\r\n",
      "      Successfully uninstalled torch-1.11.0\r\n",
      "  Attempting uninstall: torchvision\r\n",
      "    Found existing installation: torchvision 0.12.0\r\n",
      "    Uninstalling torchvision-0.12.0:\r\n",
      "      Successfully uninstalled torchvision-0.12.0\r\n",
      "\u001b[31mERROR: pip's dependency resolver does not currently take into account all the packages that are installed. This behaviour is the source of the following dependency conflicts.\r\n",
      "pytorch-lightning 1.8.6 requires torch>=1.9.0, but you have torch 1.8.1 which is incompatible.\r\n",
      "allennlp 2.10.1 requires torch<1.13.0,>=1.10.0, but you have torch 1.8.1 which is incompatible.\u001b[0m\u001b[31m\r\n",
      "\u001b[0mSuccessfully installed torch-1.8.1 torchvision-0.9.1\r\n",
      "\u001b[33mWARNING: Running pip as the 'root' user can result in broken permissions and conflicting behaviour with the system package manager. It is recommended to use a virtual environment instead: https://pip.pypa.io/warnings/venv\u001b[0m\u001b[33m\r\n",
      "\u001b[0m"
     ]
    }
   ],
   "source": [
    "!pip uninstall jax jaxlib -y\n",
    "!pip install \"jax[cuda11_cudnn805]==0.3.10\" -f https://storage.googleapis.com/jax-releases/jax_cuda_releases.html\n",
    "!pip install torch==1.8.1 torchvision==0.9.1"
   ]
  },
  {
   "cell_type": "code",
   "execution_count": 2,
   "id": "d24386b5",
   "metadata": {
    "execution": {
     "iopub.execute_input": "2023-01-25T17:01:59.602173Z",
     "iopub.status.busy": "2023-01-25T17:01:59.601743Z",
     "iopub.status.idle": "2023-01-25T17:02:03.279625Z",
     "shell.execute_reply": "2023-01-25T17:02:03.278339Z"
    },
    "papermill": {
     "duration": 3.760791,
     "end_time": "2023-01-25T17:02:03.282399",
     "exception": false,
     "start_time": "2023-01-25T17:01:59.521608",
     "status": "completed"
    },
    "tags": []
   },
   "outputs": [
    {
     "name": "stdout",
     "output_type": "stream",
     "text": [
      "Cloning into 'stylegan2-ada'...\r\n",
      "remote: Enumerating objects: 74, done.\u001b[K\r\n",
      "remote: Total 74 (delta 0), reused 0 (delta 0), pack-reused 74\u001b[K\r\n",
      "Unpacking objects: 100% (74/74), 1.28 MiB | 1.07 MiB/s, done.\r\n"
     ]
    }
   ],
   "source": [
    "CLONE_URL = f\"https://github.com/DiningSystem/stylegan2-ada.git\"\n",
    "get_ipython().system(f\"git clone {CLONE_URL}\")\n",
    "\n",
    "import sys\n",
    "sys.path.append(\"stylegan2-ada\")\n",
    "\n",
    "import importlib  \n",
    "stylegan2 = importlib.import_module(\"stylegan2-ada\")"
   ]
  },
  {
   "cell_type": "code",
   "execution_count": 3,
   "id": "e7d5a06f",
   "metadata": {
    "execution": {
     "iopub.execute_input": "2023-01-25T17:02:03.442561Z",
     "iopub.status.busy": "2023-01-25T17:02:03.441468Z",
     "iopub.status.idle": "2023-01-25T17:02:13.891211Z",
     "shell.execute_reply": "2023-01-25T17:02:13.889908Z"
    },
    "papermill": {
     "duration": 10.533747,
     "end_time": "2023-01-25T17:02:13.894782",
     "exception": false,
     "start_time": "2023-01-25T17:02:03.361035",
     "status": "completed"
    },
    "tags": []
   },
   "outputs": [
    {
     "name": "stdout",
     "output_type": "stream",
     "text": [
      "Requirement already satisfied: ninja in /opt/conda/lib/python3.7/site-packages (1.11.1)\r\n",
      "\u001b[33mWARNING: Running pip as the 'root' user can result in broken permissions and conflicting behaviour with the system package manager. It is recommended to use a virtual environment instead: https://pip.pypa.io/warnings/venv\u001b[0m\u001b[33m\r\n",
      "\u001b[0m"
     ]
    }
   ],
   "source": [
    "!pip install ninja"
   ]
  },
  {
   "cell_type": "code",
   "execution_count": 4,
   "id": "f633a3d8",
   "metadata": {
    "execution": {
     "iopub.execute_input": "2023-01-25T17:02:14.128862Z",
     "iopub.status.busy": "2023-01-25T17:02:14.128063Z",
     "iopub.status.idle": "2023-01-25T17:02:20.939592Z",
     "shell.execute_reply": "2023-01-25T17:02:20.938314Z"
    },
    "papermill": {
     "duration": 6.93485,
     "end_time": "2023-01-25T17:02:20.942119",
     "exception": false,
     "start_time": "2023-01-25T17:02:14.007269",
     "status": "completed"
    },
    "tags": []
   },
   "outputs": [
    {
     "name": "stdout",
     "output_type": "stream",
     "text": [
      "Traceback (most recent call last):\r\n",
      "  File \"./stylegan2-ada/train.py\", line 18, in <module>\r\n",
      "    import dnnlib.tflib as tflib\r\n",
      "  File \"/kaggle/working/stylegan2-ada/dnnlib/tflib/__init__.py\", line 9, in <module>\r\n",
      "    from . import autosummary\r\n",
      "  File \"/kaggle/working/stylegan2-ada/dnnlib/tflib/autosummary.py\", line 32, in <module>\r\n",
      "    from . import tfutil\r\n",
      "  File \"/kaggle/working/stylegan2-ada/dnnlib/tflib/tfutil.py\", line 18, in <module>\r\n",
      "    import tensorflow.contrib   # requires TensorFlow 1.x!\r\n",
      "ModuleNotFoundError: No module named 'tensorflow.contrib'\r\n"
     ]
    }
   ],
   "source": [
    "import os\n",
    "\n",
    "# Modify these to suit your needs\n",
    "EXPERIMENTS = \"./experiment_gan2\"\n",
    "RESUME = \"/kaggle/input/pretrain-gan2/ffhq.pkl\"\n",
    "DATA = \"/kaggle/input/process-xray/content/test_data_xray\"\n",
    "SNAP = 10\n",
    "aug = \"ada\"\n",
    "target = 0.7\n",
    "\n",
    "# Build the command and run it\n",
    "cmd = f\"python3 ./stylegan2-ada/train.py \"\\\n",
    "  f\"--snap {SNAP} --resume {RESUME} --outdir {EXPERIMENTS} --data {DATA} --aug={aug} --target={target}\"\n",
    "!{cmd}"
   ]
  }
 ],
 "metadata": {
  "kernelspec": {
   "display_name": "Python 3",
   "language": "python",
   "name": "python3"
  },
  "language_info": {
   "codemirror_mode": {
    "name": "ipython",
    "version": 3
   },
   "file_extension": ".py",
   "mimetype": "text/x-python",
   "name": "python",
   "nbconvert_exporter": "python",
   "pygments_lexer": "ipython3",
   "version": "3.7.12"
  },
  "papermill": {
   "default_parameters": {},
   "duration": 180.765372,
   "end_time": "2023-01-25T17:02:21.641181",
   "environment_variables": {},
   "exception": null,
   "input_path": "__notebook__.ipynb",
   "output_path": "__notebook__.ipynb",
   "parameters": {},
   "start_time": "2023-01-25T16:59:20.875809",
   "version": "2.3.4"
  }
 },
 "nbformat": 4,
 "nbformat_minor": 5
}
