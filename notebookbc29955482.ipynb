{
 "cells": [
  {
   "cell_type": "code",
   "execution_count": 1,
   "id": "bb76337d",
   "metadata": {
    "execution": {
     "iopub.execute_input": "2023-01-28T02:02:51.848947Z",
     "iopub.status.busy": "2023-01-28T02:02:51.847473Z",
     "iopub.status.idle": "2023-01-28T02:03:04.272927Z",
     "shell.execute_reply": "2023-01-28T02:03:04.271798Z"
    },
    "papermill": {
     "duration": 12.433291,
     "end_time": "2023-01-28T02:03:04.275621",
     "exception": false,
     "start_time": "2023-01-28T02:02:51.842330",
     "status": "completed"
    },
    "tags": []
   },
   "outputs": [
    {
     "name": "stdout",
     "output_type": "stream",
     "text": [
      "Requirement already satisfied: click in /opt/conda/lib/python3.7/site-packages (8.1.3)\r\n",
      "Requirement already satisfied: requests in /opt/conda/lib/python3.7/site-packages (2.28.1)\r\n",
      "Requirement already satisfied: tqdm in /opt/conda/lib/python3.7/site-packages (4.64.0)\r\n",
      "Collecting pyspng\r\n",
      "  Downloading pyspng-0.1.1-cp37-cp37m-manylinux_2_17_x86_64.manylinux2014_x86_64.whl (207 kB)\r\n",
      "\u001b[2K     \u001b[90m━━━━━━━━━━━━━━━━━━━━━━━━━━━━━━━━━━━━━━━\u001b[0m \u001b[32m207.9/207.9 kB\u001b[0m \u001b[31m1.4 MB/s\u001b[0m eta \u001b[36m0:00:00\u001b[0m\r\n",
      "\u001b[?25hRequirement already satisfied: ninja in /opt/conda/lib/python3.7/site-packages (1.11.1)\r\n",
      "Collecting imageio-ffmpeg==0.4.3\r\n",
      "  Downloading imageio_ffmpeg-0.4.3-py3-none-manylinux2010_x86_64.whl (26.9 MB)\r\n",
      "\u001b[2K     \u001b[90m━━━━━━━━━━━━━━━━━━━━━━━━━━━━━━━━━━━━━━━━\u001b[0m \u001b[32m26.9/26.9 MB\u001b[0m \u001b[31m31.0 MB/s\u001b[0m eta \u001b[36m0:00:00\u001b[0m\r\n",
      "\u001b[?25hRequirement already satisfied: importlib-metadata in /opt/conda/lib/python3.7/site-packages (from click) (4.13.0)\r\n",
      "Requirement already satisfied: urllib3<1.27,>=1.21.1 in /opt/conda/lib/python3.7/site-packages (from requests) (1.26.13)\r\n",
      "Requirement already satisfied: idna<4,>=2.5 in /opt/conda/lib/python3.7/site-packages (from requests) (3.3)\r\n",
      "Requirement already satisfied: charset-normalizer<3,>=2 in /opt/conda/lib/python3.7/site-packages (from requests) (2.1.0)\r\n",
      "Requirement already satisfied: certifi>=2017.4.17 in /opt/conda/lib/python3.7/site-packages (from requests) (2022.12.7)\r\n",
      "Requirement already satisfied: numpy in /opt/conda/lib/python3.7/site-packages (from pyspng) (1.21.6)\r\n",
      "Requirement already satisfied: typing-extensions>=3.6.4 in /opt/conda/lib/python3.7/site-packages (from importlib-metadata->click) (4.1.1)\r\n",
      "Requirement already satisfied: zipp>=0.5 in /opt/conda/lib/python3.7/site-packages (from importlib-metadata->click) (3.8.0)\r\n",
      "Installing collected packages: pyspng, imageio-ffmpeg\r\n",
      "Successfully installed imageio-ffmpeg-0.4.3 pyspng-0.1.1\r\n",
      "\u001b[33mWARNING: Running pip as the 'root' user can result in broken permissions and conflicting behaviour with the system package manager. It is recommended to use a virtual environment instead: https://pip.pypa.io/warnings/venv\u001b[0m\u001b[33m\r\n",
      "\u001b[0m"
     ]
    }
   ],
   "source": [
    "!pip install click requests tqdm pyspng ninja imageio-ffmpeg==0.4.3"
   ]
  },
  {
   "cell_type": "code",
   "execution_count": 2,
   "id": "c4372188",
   "metadata": {
    "execution": {
     "iopub.execute_input": "2023-01-28T02:03:04.283207Z",
     "iopub.status.busy": "2023-01-28T02:03:04.282885Z",
     "iopub.status.idle": "2023-01-28T02:03:06.481725Z",
     "shell.execute_reply": "2023-01-28T02:03:06.480653Z"
    },
    "papermill": {
     "duration": 2.204789,
     "end_time": "2023-01-28T02:03:06.483673",
     "exception": false,
     "start_time": "2023-01-28T02:03:04.278884",
     "status": "completed"
    },
    "tags": []
   },
   "outputs": [
    {
     "name": "stdout",
     "output_type": "stream",
     "text": [
      "Cloning into 'stylegan3'...\r\n",
      "remote: Enumerating objects: 207, done.\u001b[K\r\n",
      "remote: Total 207 (delta 0), reused 0 (delta 0), pack-reused 207\u001b[K\r\n",
      "Receiving objects: 100% (207/207), 4.17 MiB | 8.95 MiB/s, done.\r\n",
      "Resolving deltas: 100% (98/98), done.\r\n",
      "/kaggle/working/stylegan3\n"
     ]
    }
   ],
   "source": [
    "!git clone https://github.com/NVlabs/stylegan3\n",
    "%cd stylegan3"
   ]
  },
  {
   "cell_type": "code",
   "execution_count": 3,
   "id": "a0a999e9",
   "metadata": {
    "execution": {
     "iopub.execute_input": "2023-01-28T02:03:06.492783Z",
     "iopub.status.busy": "2023-01-28T02:03:06.491833Z",
     "iopub.status.idle": "2023-01-28T02:03:11.107995Z",
     "shell.execute_reply": "2023-01-28T02:03:11.106791Z"
    },
    "papermill": {
     "duration": 4.623058,
     "end_time": "2023-01-28T02:03:11.110389",
     "exception": false,
     "start_time": "2023-01-28T02:03:06.487331",
     "status": "completed"
    },
    "tags": []
   },
   "outputs": [
    {
     "name": "stdout",
     "output_type": "stream",
     "text": [
      "Usage: train.py [OPTIONS]\r\n",
      "Try 'train.py --help' for help.\r\n",
      "\r\n",
      "Error: Missing option '--gamma'.\r\n"
     ]
    }
   ],
   "source": [
    "import os\n",
    "\n",
    "# Modify these to suit your needs\n",
    "EXPERIMENTS = \"../experiment_gan2\"\n",
    "RESUME = \"/kaggle/input/notebookbc29955482/experiment_gan2/00000-stylegan2-test_data_xray-gpus1-batch8-gamma0.001/network-snapshot-000040.pkl\"\n",
    "DATA = \"/kaggle/input/process-xray/content/test_data_xray\"\n",
    "SNAP = 10\n",
    "aug = \"ada\"\n",
    "target = 0.6\n",
    "version = 'stylegan2'\n",
    "gamma = 0.001\n",
    "batch = 8\n",
    "gpus = 1\n",
    "# Build the command and run it\n",
    "cmd = f\"python3 train.py \"\\\n",
    "  f\"--snap {SNAP} --resume {RESUME} --outdir {EXPERIMENTS} --data {DATA} --aug={aug} --target={target} --cfg={version} --batch={batch} --gpus={gpus}\"\n",
    "!{cmd}"
   ]
  }
 ],
 "metadata": {
  "kernelspec": {
   "display_name": "Python 3",
   "language": "python",
   "name": "python3"
  },
  "language_info": {
   "codemirror_mode": {
    "name": "ipython",
    "version": 3
   },
   "file_extension": ".py",
   "mimetype": "text/x-python",
   "name": "python",
   "nbconvert_exporter": "python",
   "pygments_lexer": "ipython3",
   "version": "3.7.12"
  },
  "papermill": {
   "default_parameters": {},
   "duration": 27.17468,
   "end_time": "2023-01-28T02:03:11.633423",
   "environment_variables": {},
   "exception": null,
   "input_path": "__notebook__.ipynb",
   "output_path": "__notebook__.ipynb",
   "parameters": {},
   "start_time": "2023-01-28T02:02:44.458743",
   "version": "2.3.4"
  }
 },
 "nbformat": 4,
 "nbformat_minor": 5
}
