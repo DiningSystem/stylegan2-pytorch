{
 "cells": [
  {
   "cell_type": "code",
   "execution_count": 1,
   "id": "7311c78c",
   "metadata": {
    "execution": {
     "iopub.execute_input": "2023-01-25T17:51:36.366481Z",
     "iopub.status.busy": "2023-01-25T17:51:36.365635Z",
     "iopub.status.idle": "2023-01-25T17:51:49.750137Z",
     "shell.execute_reply": "2023-01-25T17:51:49.748931Z"
    },
    "papermill": {
     "duration": 13.391346,
     "end_time": "2023-01-25T17:51:49.752794",
     "exception": false,
     "start_time": "2023-01-25T17:51:36.361448",
     "status": "completed"
    },
    "tags": []
   },
   "outputs": [
    {
     "name": "stdout",
     "output_type": "stream",
     "text": [
      "Requirement already satisfied: click in /opt/conda/lib/python3.7/site-packages (8.1.3)\r\n",
      "Requirement already satisfied: requests in /opt/conda/lib/python3.7/site-packages (2.28.1)\r\n",
      "Requirement already satisfied: tqdm in /opt/conda/lib/python3.7/site-packages (4.64.0)\r\n",
      "Collecting pyspng\r\n",
      "  Downloading pyspng-0.1.1-cp37-cp37m-manylinux_2_17_x86_64.manylinux2014_x86_64.whl (207 kB)\r\n",
      "\u001b[2K     \u001b[90m━━━━━━━━━━━━━━━━━━━━━━━━━━━━━━━━━━━━━\u001b[0m \u001b[32m207.9/207.9 kB\u001b[0m \u001b[31m946.7 kB/s\u001b[0m eta \u001b[36m0:00:00\u001b[0m\r\n",
      "\u001b[?25hRequirement already satisfied: ninja in /opt/conda/lib/python3.7/site-packages (1.11.1)\r\n",
      "Collecting imageio-ffmpeg==0.4.3\r\n",
      "  Downloading imageio_ffmpeg-0.4.3-py3-none-manylinux2010_x86_64.whl (26.9 MB)\r\n",
      "\u001b[2K     \u001b[90m━━━━━━━━━━━━━━━━━━━━━━━━━━━━━━━━━━━━━━━━\u001b[0m \u001b[32m26.9/26.9 MB\u001b[0m \u001b[31m23.5 MB/s\u001b[0m eta \u001b[36m0:00:00\u001b[0m\r\n",
      "\u001b[?25hRequirement already satisfied: importlib-metadata in /opt/conda/lib/python3.7/site-packages (from click) (4.13.0)\r\n",
      "Requirement already satisfied: charset-normalizer<3,>=2 in /opt/conda/lib/python3.7/site-packages (from requests) (2.1.0)\r\n",
      "Requirement already satisfied: certifi>=2017.4.17 in /opt/conda/lib/python3.7/site-packages (from requests) (2022.12.7)\r\n",
      "Requirement already satisfied: urllib3<1.27,>=1.21.1 in /opt/conda/lib/python3.7/site-packages (from requests) (1.26.13)\r\n",
      "Requirement already satisfied: idna<4,>=2.5 in /opt/conda/lib/python3.7/site-packages (from requests) (3.3)\r\n",
      "Requirement already satisfied: numpy in /opt/conda/lib/python3.7/site-packages (from pyspng) (1.21.6)\r\n",
      "Requirement already satisfied: zipp>=0.5 in /opt/conda/lib/python3.7/site-packages (from importlib-metadata->click) (3.8.0)\r\n",
      "Requirement already satisfied: typing-extensions>=3.6.4 in /opt/conda/lib/python3.7/site-packages (from importlib-metadata->click) (4.1.1)\r\n",
      "Installing collected packages: pyspng, imageio-ffmpeg\r\n",
      "Successfully installed imageio-ffmpeg-0.4.3 pyspng-0.1.1\r\n",
      "\u001b[33mWARNING: Running pip as the 'root' user can result in broken permissions and conflicting behaviour with the system package manager. It is recommended to use a virtual environment instead: https://pip.pypa.io/warnings/venv\u001b[0m\u001b[33m\r\n",
      "\u001b[0m"
     ]
    }
   ],
   "source": [
    "!pip install click requests tqdm pyspng ninja imageio-ffmpeg==0.4.3"
   ]
  },
  {
   "cell_type": "code",
   "execution_count": 2,
   "id": "60680bdd",
   "metadata": {
    "execution": {
     "iopub.execute_input": "2023-01-25T17:51:49.765028Z",
     "iopub.status.busy": "2023-01-25T17:51:49.764535Z",
     "iopub.status.idle": "2023-01-25T17:51:52.179244Z",
     "shell.execute_reply": "2023-01-25T17:51:52.177692Z"
    },
    "papermill": {
     "duration": 2.423182,
     "end_time": "2023-01-25T17:51:52.181672",
     "exception": false,
     "start_time": "2023-01-25T17:51:49.758490",
     "status": "completed"
    },
    "tags": []
   },
   "outputs": [
    {
     "name": "stdout",
     "output_type": "stream",
     "text": [
      "Cloning into 'stylegan2-ada-pytorch'...\r\n",
      "remote: Enumerating objects: 151, done.\u001b[K\r\n",
      "remote: Total 151 (delta 0), reused 0 (delta 0), pack-reused 151\u001b[K\r\n",
      "Receiving objects: 100% (151/151), 1.13 MiB | 2.21 MiB/s, done.\r\n",
      "Resolving deltas: 100% (68/68), done.\r\n",
      "/kaggle/working/stylegan2-ada-pytorch\n"
     ]
    }
   ],
   "source": [
    "!git clone https://github.com/rkuo2000/stylegan2-ada-pytorch\n",
    "%cd stylegan2-ada-pytorch"
   ]
  },
  {
   "cell_type": "code",
   "execution_count": 3,
   "id": "33bc7bef",
   "metadata": {
    "execution": {
     "iopub.execute_input": "2023-01-25T17:51:52.192043Z",
     "iopub.status.busy": "2023-01-25T17:51:52.191192Z",
     "iopub.status.idle": "2023-01-25T17:51:53.240047Z",
     "shell.execute_reply": "2023-01-25T17:51:53.238665Z"
    },
    "papermill": {
     "duration": 1.05732,
     "end_time": "2023-01-25T17:51:53.243149",
     "exception": false,
     "start_time": "2023-01-25T17:51:52.185829",
     "status": "completed"
    },
    "tags": []
   },
   "outputs": [
    {
     "name": "stdout",
     "output_type": "stream",
     "text": [
      "python3: can't open file './stylegan2-ada-pytorch/train.py': [Errno 2] No such file or directory\r\n"
     ]
    }
   ],
   "source": [
    "import os\n",
    "\n",
    "# Modify these to suit your needs\n",
    "EXPERIMENTS = \"./experiment_gan2\"\n",
    "RESUME = \"/kaggle/input/pretrain-gan2/ffhq.pkl\"\n",
    "DATA = \"/kaggle/input/process-xray/content/test_data_xray\"\n",
    "SNAP = 10\n",
    "aug = \"ada\"\n",
    "target = 0.7\n",
    "\n",
    "# Build the command and run it\n",
    "cmd = f\"python3 ./stylegan2-ada-pytorch/train.py \"\\\n",
    "  f\"--snap {SNAP} --resume {RESUME} --outdir {EXPERIMENTS} --data {DATA} --aug={aug} --target={target}\"\n",
    "!{cmd}"
   ]
  }
 ],
 "metadata": {
  "kernelspec": {
   "display_name": "Python 3",
   "language": "python",
   "name": "python3"
  },
  "language_info": {
   "codemirror_mode": {
    "name": "ipython",
    "version": 3
   },
   "file_extension": ".py",
   "mimetype": "text/x-python",
   "name": "python",
   "nbconvert_exporter": "python",
   "pygments_lexer": "ipython3",
   "version": "3.7.12"
  },
  "papermill": {
   "default_parameters": {},
   "duration": 25.719534,
   "end_time": "2023-01-25T17:51:53.868366",
   "environment_variables": {},
   "exception": null,
   "input_path": "__notebook__.ipynb",
   "output_path": "__notebook__.ipynb",
   "parameters": {},
   "start_time": "2023-01-25T17:51:28.148832",
   "version": "2.3.4"
  }
 },
 "nbformat": 4,
 "nbformat_minor": 5
}
